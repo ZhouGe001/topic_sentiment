{
 "cells": [
  {
   "cell_type": "code",
   "execution_count": null,
   "metadata": {},
   "outputs": [],
   "source": [
    "import numpy as np\n",
    "from bertopic import BERTopic\n",
    "from umap import UMAP\n",
    "from sklearn.feature_extraction.text import CountVectorizer\n",
    "\n",
    "# 加载模型\n",
    "topic_model = BERTopic.load(\"./0_topic_model\")\n",
    "\n",
    "cut_word_file_path = '../数据文件/切词数据/切词-论文数据.txt'\n",
    "emb_file_path = '../数据文件/词向量/论文-acge_text_embedding.npy'\n",
    "second_stopwords_list = open('../stopwords/second_stopwords.txt', 'r', encoding='utf-8').read().split('\\n')\n",
    "\n",
    "with open(cut_word_file_path, 'r', encoding='utf-8') as file:\n",
    "  docs = file.readlines()\n",
    "embeddings = np.load(emb_file_path)\n",
    "\n",
    "vectorizer_model = CountVectorizer(stop_words=second_stopwords_list)\n",
    "\n",
    "# topics是每个文档的聚类结果，probs是每个文档对应每个主题的概率\n",
    "topics, probs = topic_model.transform(docs, embeddings)"
   ]
  },
  {
   "cell_type": "markdown",
   "metadata": {},
   "source": [
    "## 减少主题数"
   ]
  },
  {
   "cell_type": "code",
   "execution_count": null,
   "metadata": {},
   "outputs": [],
   "source": [
    "# # 减少主题数，和BERTopic()中的nr_topics参数功能一样\n",
    "# # 该方法会覆盖掉原来的topic_model\n",
    "\n",
    "# topic_model.reduce_topics(docs, nr_topics=10)\n",
    "# topic_model.get_topic_info()"
   ]
  },
  {
   "cell_type": "markdown",
   "metadata": {},
   "source": [
    "## 减少离群值 方法1：用probs概率减少离群值"
   ]
  },
  {
   "cell_type": "code",
   "execution_count": null,
   "metadata": {},
   "outputs": [],
   "source": [
    "# # 使用reduce_outliers()后不建议进行主题合并、主题减少的操作，有报错可能\n",
    "\n",
    "# new_topics = topic_model.reduce_outliers(\n",
    "#     docs, \n",
    "#     topics, \n",
    "#     strategy=\"probabilities\", \n",
    "#     probabilities=probs, \n",
    "#     threshold=0.9                     #该参数是判断是否为离群值的阈值，小于该参数则归为离群值\n",
    "#     )\n",
    "\n",
    "# # 可以查看离群值个数，以及每个文档更新后的主题\n",
    "# print(new_topics.count(-1), new_topics)"
   ]
  },
  {
   "cell_type": "code",
   "execution_count": null,
   "metadata": {},
   "outputs": [],
   "source": [
    "# # 应用更新\n",
    "# # update_topic会覆盖掉原来的topic_model\n",
    "\n",
    "# topic_model.update_topics(docs, topics=new_topics, vectorizer_model=vectorizer_model)\n",
    "# topic_info = topic_model.get_topic_info()\n",
    "# topic_info"
   ]
  },
  {
   "cell_type": "markdown",
   "metadata": {},
   "source": [
    "## 减少离群值 方法2：使用embedding减少离群值"
   ]
  },
  {
   "cell_type": "code",
   "execution_count": null,
   "metadata": {},
   "outputs": [],
   "source": [
    "# # 使用reduce_outliers()后不建议进行主题合并、主题减少的操作，有报错可能\n",
    "\n",
    "# new_topics = topic_model.reduce_outliers(\n",
    "#   docs,\n",
    "#   topics,\n",
    "#   strategy=\"embeddings\",\n",
    "#   embeddings=embeddings,              # 应用训练好的Embedding\n",
    "#   threshold=0.5                      # 可以设置阈值\n",
    "# )\n",
    "\n",
    "# # 可以查看离群值个数，以及每个文档更新后的主题\n",
    "# print(new_topics.count(-1), new_topics)"
   ]
  },
  {
   "cell_type": "code",
   "execution_count": null,
   "metadata": {},
   "outputs": [],
   "source": [
    "# # 应用更新\n",
    "# # update_topic会覆盖掉原来的topic_model\n",
    "\n",
    "# topic_model.update_topics(docs, topics=new_topics, vectorizer_model=vectorizer_model)\n",
    "# topic_info = topic_model.get_topic_info()\n",
    "# topic_info"
   ]
  },
  {
   "cell_type": "markdown",
   "metadata": {},
   "source": [
    "# 总结：减少离群值的主要策略\n",
    "1. DBSCAN的min_samples；\n",
    "2. UMAP的min_dist；\n",
    "3. reduce_outliers()；\n",
    "4. HDBSCAN的min_cluster_size；\n",
    "5. UMAP的random_state；\n",
    "6. 清理数据"
   ]
  },
  {
   "cell_type": "markdown",
   "metadata": {},
   "source": [
    "# 主题可视化"
   ]
  },
  {
   "cell_type": "markdown",
   "metadata": {},
   "source": [
    "## 条形图"
   ]
  },
  {
   "cell_type": "code",
   "execution_count": null,
   "metadata": {},
   "outputs": [],
   "source": [
    "# # 可更改labels，详情见：21_vis_terms.ipynb\n",
    "\n",
    "# # Arguments:\n",
    "# #     topics: A selection of topics to visualize.\n",
    "# #     top_n_topics: Only select the top n most frequent topics.\n",
    "# #     n_words: Number of words to show in a topic\n",
    "# #     custom_labels: Whether to use custom topic labels that were defined using\n",
    "# #                `topic_model.set_topic_labels`.\n",
    "# #     title: Title of the plot.\n",
    "# #     width: The width of each figure.\n",
    "# #     height: The height of each figure.\n",
    "\n",
    "# topic_model.visualize_barchart()"
   ]
  },
  {
   "cell_type": "markdown",
   "metadata": {},
   "source": [
    "## 主题分布图"
   ]
  },
  {
   "cell_type": "code",
   "execution_count": null,
   "metadata": {},
   "outputs": [],
   "source": [
    "# # Arguments:\n",
    "# #           topics: A selection of topics to visualize\n",
    "# #           top_n_topics: Only select the top n most frequent topics\n",
    "# #           custom_labels: Whether to use custom topic labels that were defined using \n",
    "# #                      `topic_model.set_topic_labels`.\n",
    "# #           title: Title of the plot.\n",
    "# #           width: The width of the figure.\n",
    "# #           height: The height of the figure.\n",
    "\n",
    "# topic_model.visualize_topics()\n",
    "\n",
    "# # 主题数量太少会出现报错\n"
   ]
  },
  {
   "cell_type": "markdown",
   "metadata": {},
   "source": [
    "## 散点图"
   ]
  },
  {
   "cell_type": "code",
   "execution_count": null,
   "metadata": {},
   "outputs": [],
   "source": [
    "# # 详可更改labels，详情见：22_vis_umap.ipynb\n",
    "# reduced_embeddings = UMAP(n_neighbors=15, n_components=2, min_dist=0.0, metric='cosine').fit_transform(embeddings)\n",
    "# topic_model.visualize_documents(\n",
    "#     docs, reduced_embeddings=reduced_embeddings, hide_document_hover=True, hide_annotations=True\n",
    "#     )"
   ]
  },
  {
   "cell_type": "markdown",
   "metadata": {},
   "source": [
    "## 层次聚类图"
   ]
  },
  {
   "cell_type": "code",
   "execution_count": null,
   "metadata": {},
   "outputs": [],
   "source": [
    "# hierarchical_topics = topic_model.hierarchical_topics(docs)\n",
    "# topic_model.visualize_hierarchy(hierarchical_topics=hierarchical_topics)"
   ]
  },
  {
   "cell_type": "code",
   "execution_count": null,
   "metadata": {},
   "outputs": [],
   "source": [
    "# # 参考层次聚类图来进行主题合并，效果更好\n",
    "\n",
    "# topic_model.merge_topics(docs, \n",
    "\n",
    "# # 依据层次聚类结果，更改该二维列表\n",
    "# [[5,2,11,21,0,1,10,4,25,20],[],[5,13,3],[16,18,21,10,11,15,25,4,0,1,2]]\n",
    "# )\n",
    "\n",
    "# topic_info_new = topic_model.get_topic_info()\n",
    "# topic_info_new"
   ]
  }
 ],
 "metadata": {
  "kernelspec": {
   "display_name": "BERTopic_Env",
   "language": "python",
   "name": "python3"
  },
  "language_info": {
   "codemirror_mode": {
    "name": "ipython",
    "version": 3
   },
   "file_extension": ".py",
   "mimetype": "text/x-python",
   "name": "python",
   "nbconvert_exporter": "python",
   "pygments_lexer": "ipython3",
   "version": "3.11.9"
  }
 },
 "nbformat": 4,
 "nbformat_minor": 2
}
