{
 "cells": [
  {
   "cell_type": "code",
   "execution_count": 3,
   "metadata": {
    "ExecuteTime": {
     "end_time": "2024-07-17T13:57:12.257737Z",
     "start_time": "2024-07-17T13:57:07.177624Z"
    }
   },
   "outputs": [],
   "source": [
    "import pre_emb\n",
    "\n",
    "# excel中的列名\n",
    "row_name = \"评论内容\""
   ]
  },
  {
   "cell_type": "markdown",
   "metadata": {},
   "source": [
    "## 读取数据、数据处理、切词\n"
   ]
  },
  {
   "cell_type": "code",
   "execution_count": 4,
   "metadata": {
    "ExecuteTime": {
     "end_time": "2024-07-17T13:57:27.684641Z",
     "start_time": "2024-07-17T13:57:12.258750Z"
    }
   },
   "outputs": [],
   "source": [
    "folder_path = '../数据文件/TEST/'\n",
    "userdict_path = \"../userdict/userdict.txt\"\n",
    "stopword_path = '../stopwords/stopwords.txt'\n",
    "save_path = '../数据文件/切词数据/TEST.txt'\n",
    "# 最大长度\n",
    "max_length = 100\n",
    "\n",
    "\n",
    "df = pre_emb.merge_excel_to_dataframe(folder_path)\n",
    "df = pre_emb.dataframe_process(df, row_name, max_length=100)\n",
    "pre_emb.dataframe_text_cut(df, row_name, userdict_path, stopword_path, save_path)"
   ]
  },
  {
   "cell_type": "markdown",
   "metadata": {},
   "source": [
    "## 向量化"
   ]
  },
  {
   "cell_type": "code",
   "execution_count": 5,
   "metadata": {
    "ExecuteTime": {
     "end_time": "2024-07-17T13:57:27.688271Z",
     "start_time": "2024-07-17T13:57:27.684641Z"
    }
   },
   "outputs": [
    {
     "name": "stderr",
     "output_type": "stream",
     "text": [
      "100%|██████████| 17/17 [00:18<00:00,  1.08s/it]"
     ]
    },
    {
     "name": "stdout",
     "output_type": "stream",
     "text": [
      "batch个数（批数）：17，每批的向量维度：(100, 1024)，最后一批的向量维度：(13, 1024)，每批向量的类型：<class 'numpy.ndarray'>\n",
      "最终生成的词向量 <class 'numpy.ndarray'> (1613, 1024)\n",
      "词向量存储于:  ../数据文件/词向量/BERT.npy\n"
     ]
    },
    {
     "name": "stderr",
     "output_type": "stream",
     "text": [
      "\n"
     ]
    }
   ],
   "source": [
    "model_name = 'aspire/acge_text_embedding'\n",
    "# 每批大小\n",
    "batch_size = 100\n",
    "output_file = \"../数据文件/词向量/BERT.npy\"\n",
    "\n",
    "pre_emb.embeddingByBERT(df, row_name, model_name=model_name, batch_size=batch_size, output_file=output_file)"
   ]
  }
 ],
 "metadata": {
  "kernelspec": {
   "display_name": "BERTopic_Env",
   "language": "python",
   "name": "python3"
  },
  "language_info": {
   "codemirror_mode": {
    "name": "ipython",
    "version": 3
   },
   "file_extension": ".py",
   "mimetype": "text/x-python",
   "name": "python",
   "nbconvert_exporter": "python",
   "pygments_lexer": "ipython3",
   "version": "3.11.9"
  }
 },
 "nbformat": 4,
 "nbformat_minor": 2
}
